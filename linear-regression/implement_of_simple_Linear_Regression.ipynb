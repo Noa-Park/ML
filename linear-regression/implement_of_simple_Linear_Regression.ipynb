{
 "cells": [
  {
   "cell_type": "markdown",
   "metadata": {},
   "source": [
    "외부 라이브러리 import"
   ]
  },
  {
   "cell_type": "code",
   "execution_count": 40,
   "metadata": {},
   "outputs": [],
   "source": [
    "import numpy as np\n",
    "import matplotlib.pyplot as plt"
   ]
  },
  {
   "cell_type": "markdown",
   "metadata": {},
   "source": [
    "lr, 반복횟수 설정"
   ]
  },
  {
   "cell_type": "code",
   "execution_count": 23,
   "metadata": {},
   "outputs": [],
   "source": [
    "learning_rate = 1e-4\n",
    "iteration = 10000"
   ]
  },
  {
   "cell_type": "markdown",
   "metadata": {},
   "source": [
    "독립변수, 종속변수 설정"
   ]
  },
  {
   "cell_type": "code",
   "execution_count": 16,
   "metadata": {},
   "outputs": [],
   "source": [
    "x = np.array([[8.70153760], [3.90825773], [1.89362433], [3.28730045], \n",
    "[7.39333004], [2.98984649], [2.25757240], [9.84450732], [9.94589513], [5.48321616]])\n",
    "y = np.array([[5.64413093], [3.75876583], [3.87233310], [4.40990425], \n",
    "[6.43845020], [4.02827829], [2.26105955], [7.15768995], [6.29097441], [5.19692852]])"
   ]
  },
  {
   "cell_type": "markdown",
   "metadata": {},
   "source": [
    "선형 회귀는 W(weight) 와 b(bias) 를 조절해가며 학습 데이터와 자신의 예측 데이터 간의 오차를 줄이는 작업을 수행한다. 이를 학습이라고 하며 선형 회귀는 기본적으로 경사 하강법을 사용하여 학습을 진행한다."
   ]
  },
  {
   "cell_type": "code",
   "execution_count": 17,
   "metadata": {},
   "outputs": [],
   "source": [
    "a = np.zeros((1,1))\n",
    "b = np.zeros((1,1))"
   ]
  },
  {
   "cell_type": "markdown",
   "metadata": {},
   "source": [
    "zeros\n",
    "zeros는 0으로 가득 찬 array를 생성합니다.\n",
    "np.zeros(shape, dtype, order)"
   ]
  },
  {
   "cell_type": "code",
   "execution_count": 18,
   "metadata": {},
   "outputs": [],
   "source": [
    "def prediction(a,b,x):\n",
    "    eq = a*x + b\n",
    "    return eq"
   ]
  },
  {
   "cell_type": "code",
   "execution_count": 19,
   "metadata": {},
   "outputs": [],
   "source": [
    "error = y-prediction(a,b,x)"
   ]
  },
  {
   "cell_type": "markdown",
   "metadata": {},
   "source": [
    "두 값의 차이로 loss fuction 구현\n",
    "오차 값이 0 인 해 a,b 를 경사 하강법으로 구현\n",
    "미분값이 0인 방향으로 조금씩 이동"
   ]
  },
  {
   "cell_type": "markdown",
   "metadata": {},
   "source": []
  },
  {
   "cell_type": "markdown",
   "metadata": {},
   "source": [
    "error = y - (a*x+b)\n",
    "loss function 를 제곱 평균 오차로 표현 \n",
    "loss_function(a,b) = 1/n*sigma(1,n) : (error)^2\n",
    "이를 a 에 대해 편미분하면 \n",
    "2/n*(-x)*sigma(1,n) : (error)\n",
    "이를 내적으로 표현하면 \n",
    "-2/n*sigma(1,n) : x . (error)\n",
    "이를 b 에 대해 편미분하면 \n",
    "-2/n*sigma(1,n) : (error)"
   ]
  },
  {
   "cell_type": "code",
   "execution_count": 22,
   "metadata": {},
   "outputs": [
    {
     "name": "stdout",
     "output_type": "stream",
     "text": [
      "[[5.64413093]\n",
      " [3.75876583]\n",
      " [3.8723331 ]\n",
      " [4.40990425]\n",
      " [6.4384502 ]\n",
      " [4.02827829]\n",
      " [2.26105955]\n",
      " [7.15768995]\n",
      " [6.29097441]\n",
      " [5.19692852]]\n"
     ]
    }
   ],
   "source": [
    "print(error)"
   ]
  },
  {
   "cell_type": "code",
   "execution_count": 25,
   "metadata": {},
   "outputs": [],
   "source": [
    "def update_ab(a,b,x,error,lr):\n",
    "    delta_a = -(lr*(2/len(error))*(np.dot(x.T, error)))\n",
    "    delta_b = -(lr*(2/len(error))*np.sum(error))\n",
    "    \n",
    "    return delta_a, delta_b"
   ]
  },
  {
   "cell_type": "markdown",
   "metadata": {},
   "source": [
    "경사하강법  "
   ]
  },
  {
   "cell_type": "code",
   "execution_count": 30,
   "metadata": {},
   "outputs": [],
   "source": [
    "def gradient_descent(x, y, iteration):\n",
    "\n",
    "    a = np.zeros((1,1))\n",
    "    b = np.zeros((1,1))\n",
    "    \n",
    "    for i in range(iteration):\n",
    "        error = y - prediction(a,b,x)\n",
    "        a_delta, b_delta = update_ab(a,b,x,error, lr = learning_rate)\n",
    "        a -= a_delta\n",
    "        b -= b_delta\n",
    "    \n",
    "    return a, b"
   ]
  },
  {
   "cell_type": "code",
   "execution_count": 31,
   "metadata": {},
   "outputs": [],
   "source": [
    "def plotting_graph(x,y,a,b):\n",
    "    y_pred=a[0,0]*x+b\n",
    "    plt.scatter(x, y)\n",
    "    plt.plot(x, y_pred)\n",
    "    plt.savefig(\"test.png\")"
   ]
  },
  {
   "cell_type": "code",
   "execution_count": 37,
   "metadata": {},
   "outputs": [],
   "source": [
    "def main():\n",
    "    a, b = gradient_descent(x, y, iteration)\n",
    "    print(\"a:\",a, \"b:\",b)\n",
    "    plotting_graph(x,y,a,b)"
   ]
  },
  {
   "cell_type": "code",
   "execution_count": 38,
   "metadata": {},
   "outputs": [
    {
     "name": "stdout",
     "output_type": "stream",
     "text": [
      "a: [[0.64716734]] b: [[0.96099787]]\n"
     ]
    },
    {
     "data": {
      "image/png": "[encoded data removed]",
      "text/plain": [
       "<Figure size 640x480 with 1 Axes>"
      ]
     },
     "metadata": {},
     "output_type": "display_data"
    }
   ],
   "source": [
    "main()"
   ]
  },
  {
   "cell_type": "markdown",
   "metadata": {},
   "source": [
    "SDEM 분석"
   ]
  },
  {
   "cell_type": "markdown",
   "metadata": {},
   "source": [
    "p - value 계산 "
   ]
  },
  {
   "cell_type": "code",
   "execution_count": 48,
   "metadata": {},
   "outputs": [],
   "source": [
    "from scipy import stats"
   ]
  },
  {
   "cell_type": "code",
   "execution_count": 49,
   "metadata": {},
   "outputs": [
    {
     "name": "stdout",
     "output_type": "stream",
     "text": [
      "[0.55526857]\n"
     ]
    }
   ],
   "source": [
    "t, pvalue = stats.ttest_ind(y, x)\n",
    "print(pvalue)"
   ]
  },
  {
   "cell_type": "code",
   "execution_count": null,
   "metadata": {},
   "outputs": [],
   "source": [
    "def calculate_p_value(x, y, a, b):\n",
    "    n = len(y)\n",
    "    \n",
    "    # 예측 값 계산\n",
    "    y_pred = prediction(a, b, x)\n",
    "    \n",
    "    # 잔차 계산\n",
    "    residuals = y - y_pred\n",
    "    \n",
    "    # 잔차의 분산\n",
    "    residual_sum_of_squares = np.sum(residuals**2)\n",
    "    residual_variance = residual_sum_of_squares / (n - 2)\n",
    "    \n",
    "    # x의 분산\n",
    "    x_mean = np.mean(x)\n",
    "    s_xx = np.sum((x - x_mean) ** 2)\n",
    "    \n",
    "    # a와 b의 표준 오차 계산\n",
    "    se_a = np.sqrt(residual_variance / s_xx)\n",
    "    se_b = np.sqrt(residual_variance * (1/n + (x_mean ** 2) / s_xx))\n",
    "    \n",
    "    # t-값 계산\n",
    "    t_a = a / se_a\n",
    "    t_b = b / se_b\n",
    "    \n",
    "    # 자유도\n",
    "    df = n - 2\n",
    "    \n",
    "    # p-value 계산 (이중 측정이므로 두 배로 계산)\n",
    "    p_value_a = 2 * (1 - stats.t.cdf(np.abs(t_a), df))\n",
    "    p_value_b = 2 * (1 - stats.t.cdf(np.abs(t_b), df))\n",
    "    \n",
    "    return p_value_a, p_value_b"
   ]
  },
  {
   "cell_type": "code",
   "execution_count": null,
   "metadata": {},
   "outputs": [],
   "source": []
  }
 ],
 "metadata": {
  "kernelspec": {
   "display_name": "Python 3",
   "language": "python",
   "name": "python3"
  },
  "language_info": {
   "codemirror_mode": {
    "name": "ipython",
    "version": 3
   },
   "file_extension": ".py",
   "mimetype": "text/x-python",
   "name": "python",
   "nbconvert_exporter": "python",
   "pygments_lexer": "ipython3",
   "version": "3.11.2"
  }
 },
 "nbformat": 4,
 "nbformat_minor": 2
}
